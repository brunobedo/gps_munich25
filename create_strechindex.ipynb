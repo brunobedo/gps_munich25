{
 "cells": [
  {
   "cell_type": "code",
   "execution_count": 175,
   "id": "9495281e",
   "metadata": {},
   "outputs": [],
   "source": [
    "import tools\n",
    "import pandas as pd \n",
    "import numpy as np \n",
    "import os\n",
    "from IPython.display import HTML\n",
    "from matplotlib.animation import FuncAnimation, FFMpegWriter\n",
    "import matplotlib.pyplot as plt"
   ]
  },
  {
   "cell_type": "code",
   "execution_count": 176,
   "id": "4a265ab6",
   "metadata": {},
   "outputs": [],
   "source": [
    "def calculate_xy_mean(df, sport, color):\n",
    "    print(f'    Calculating XY mean: {sport.capitalize()} | Team: {color.capitalize()}')\n",
    "    df = df.dropna().copy()\n",
    "    ids = tools.get_team_list(sport, color)\n",
    "    cols_x = [f\"{pid}_x\" for pid in ids]\n",
    "    cols_y = [f\"{pid}_y\" for pid in ids]\n",
    "\n",
    "    df_x = df[cols_x].copy()\n",
    "    df_x['mean_x'] = df_x.mean(axis=1)\n",
    "\n",
    "    df_y = df[cols_y].copy()\n",
    "    df_y['mean_y'] = df_y.mean(axis=1)\n",
    "\n",
    "    df = pd.concat([df_x, df_y], axis=1)\n",
    "    df = df[sorted(df.columns)].reset_index(drop=True)\n",
    "    return df"
   ]
  },
  {
   "cell_type": "code",
   "execution_count": 177,
   "id": "5c670dbe",
   "metadata": {},
   "outputs": [],
   "source": [
    "def compute_strechindex(df):\n",
    "    print('         Calculating Strech Index')\n",
    "    df = df.copy()\n",
    "\n",
    "    # Seleciona colunas de posição dos atletas\n",
    "    x_cols = [col for col in df.columns if col.endswith('_x') and not col.startswith('mean')]\n",
    "    y_cols = [col for col in df.columns if col.endswith('_y') and not col.startswith('mean')]\n",
    "\n",
    "    # Identifica os pids (prefixos)\n",
    "    pids = [col.split('_')[0] for col in x_cols]\n",
    "\n",
    "    # Calcula ponto médio do time\n",
    "    df['mean_x'] = df[x_cols].mean(axis=1)\n",
    "    df['mean_y'] = df[y_cols].mean(axis=1)\n",
    "\n",
    "    # Inicializa lista para distâncias individuais\n",
    "    dist_all = []\n",
    "\n",
    "    # Calcula distância euclidiana de cada jogador ao centro\n",
    "    for pid in pids:\n",
    "        dx = df[f'{pid}_x'] - df['mean_x']\n",
    "        dy = df[f'{pid}_y'] - df['mean_y']\n",
    "        dist = np.sqrt(dx**2 + dy**2)\n",
    "        df[f'si_{pid}'] = dist\n",
    "        dist_all.append(dist)\n",
    "\n",
    "    # Calcula distância média ao centro\n",
    "    dist_matrix = np.vstack(dist_all).T\n",
    "    df['si_mean'] = dist_matrix.mean(axis=1)\n",
    "    return df"
   ]
  },
  {
   "cell_type": "code",
   "execution_count": 178,
   "id": "93fc065c",
   "metadata": {},
   "outputs": [],
   "source": [
    "def create_strechindex_video(df_b, df_o, sport, save=True):\n",
    "    print(f'Creating Centroid Distance Video | {sport.capitalize()}')\n",
    "\n",
    "    # Obtem IDs e colunas\n",
    "    blue_ids = tools.get_team_list(sport, 'blue')\n",
    "    orange_ids = tools.get_team_list(sport, 'orange')\n",
    "    blue_x_cols = [f'{pid}_x' for pid in blue_ids]\n",
    "    blue_y_cols = [f'{pid}_y' for pid in blue_ids]\n",
    "    orange_x_cols = [f'{pid}_x' for pid in orange_ids]\n",
    "    orange_y_cols = [f'{pid}_y' for pid in orange_ids]\n",
    "\n",
    "    # Cria campo\n",
    "    fig, ax = tools.draw_field_court(sport)\n",
    "    scat_blue = ax.scatter([], [], s=50, color='blue')\n",
    "    scat_orange = ax.scatter([], [], s=50, color='orange')\n",
    "    centroid_blue, = ax.plot([], [], '^', color='black', markersize=10)\n",
    "    centroid_orange, = ax.plot([], [], '^', color='black', markersize=10)\n",
    "\n",
    "    # Linhas de cada atleta para o centróide\n",
    "    lines_blue = [ax.plot([], [], linestyle=':', color='blue')[0] for _ in blue_ids]\n",
    "    lines_orange = [ax.plot([], [], linestyle=':', color='orange')[0] for _ in orange_ids]\n",
    "\n",
    "    # Textos\n",
    "    text_blue = ax.text(0.03, 0.95, '', transform=ax.transAxes, fontsize=12, color='black')\n",
    "    text_orange = ax.text(0.53, 0.95, '', transform=ax.transAxes, fontsize=12, color='black')\n",
    "\n",
    "    def update(frame):\n",
    "        # Blue team\n",
    "        blue_coords = list(zip(df_b.loc[frame, blue_x_cols], df_b.loc[frame, blue_y_cols]))\n",
    "        mean_x_b = df_b.loc[frame, 'mean_x']\n",
    "        mean_y_b = df_b.loc[frame, 'mean_y']\n",
    "        scat_blue.set_offsets(blue_coords)\n",
    "        centroid_blue.set_data([mean_x_b], [mean_y_b])\n",
    "        for i, (x, y) in enumerate(blue_coords):\n",
    "            lines_blue[i].set_data([x, mean_x_b], [y, mean_y_b])\n",
    "\n",
    "        # Orange team\n",
    "        orange_coords = list(zip(df_o.loc[frame, orange_x_cols], df_o.loc[frame, orange_y_cols]))\n",
    "        mean_x_o = df_o.loc[frame, 'mean_x']\n",
    "        mean_y_o = df_o.loc[frame, 'mean_y']\n",
    "        scat_orange.set_offsets(orange_coords)\n",
    "        centroid_orange.set_data([mean_x_o], [mean_y_o])\n",
    "        for i, (x, y) in enumerate(orange_coords):\n",
    "            lines_orange[i].set_data([x, mean_x_o], [y, mean_y_o])\n",
    "\n",
    "        # Texto com distância média\n",
    "        dist_b = df_b.loc[frame, 'si_mean']\n",
    "        dist_o = df_o.loc[frame, 'si_mean']\n",
    "        text_blue.set_text(f'Blue | Dist. Média: {dist_b:.2f} m')\n",
    "        text_orange.set_text(f'Orange | Dist. Média: {dist_o:.2f} m')\n",
    "\n",
    "        return (\n",
    "            scat_blue, scat_orange,\n",
    "            centroid_blue, centroid_orange,\n",
    "            text_blue, text_orange,\n",
    "            *lines_blue, *lines_orange\n",
    "        )\n",
    "\n",
    "    min_frames = min(len(df_b), len(df_o))\n",
    "    anim = FuncAnimation(fig, update, frames=range(0, min_frames, 2), interval=40, blit=True)\n",
    "    writer = FFMpegWriter(fps=30)\n",
    "\n",
    "    if save:\n",
    "        folder_dir = f'results/strechindex/{sport}/'\n",
    "        os.makedirs(folder_dir, exist_ok=True)\n",
    "        print(f'    Saving video: {folder_dir}{sport}.mp4')\n",
    "        anim.save(f'{folder_dir}{sport}.mp4', writer=writer)\n",
    "\n",
    "    return anim"
   ]
  },
  {
   "cell_type": "code",
   "execution_count": 179,
   "id": "9a3d8608",
   "metadata": {},
   "outputs": [
    {
     "name": "stdout",
     "output_type": "stream",
     "text": [
      "Loading XY data: Basketball\n",
      "    Calculating XY mean: Basketball | Team: Blue\n",
      "         Calculating Strech Index\n",
      "    Calculating XY mean: Basketball | Team: Orange\n",
      "         Calculating Strech Index\n"
     ]
    }
   ],
   "source": [
    "sport = 'basketball'\n",
    "df_b, df_o = tools.load_data(sport)\n",
    "df_b = calculate_xy_mean(df_b, sport, 'blue')\n",
    "df_b = compute_strechindex(df_b)\n",
    "\n",
    "df_o = calculate_xy_mean(df_o, sport, 'orange')\n",
    "df_o = compute_strechindex(df_o)"
   ]
  },
  {
   "cell_type": "code",
   "execution_count": null,
   "id": "44c0075c",
   "metadata": {},
   "outputs": [
    {
     "name": "stdout",
     "output_type": "stream",
     "text": [
      "Creating Centroid Distance Video | Basketball\n",
      "    Saving video: results/strechindex/basketball/basketball.mp4\n"
     ]
    }
   ],
   "source": [
    "create_strechindex_video(df_b, df_o, sport, save=True)"
   ]
  }
 ],
 "metadata": {
  "kernelspec": {
   "display_name": "brunobedo",
   "language": "python",
   "name": "python3"
  },
  "language_info": {
   "codemirror_mode": {
    "name": "ipython",
    "version": 3
   },
   "file_extension": ".py",
   "mimetype": "text/x-python",
   "name": "python",
   "nbconvert_exporter": "python",
   "pygments_lexer": "ipython3",
   "version": "3.9.21"
  }
 },
 "nbformat": 4,
 "nbformat_minor": 5
}
