{
 "cells": [
  {
   "cell_type": "code",
   "execution_count": 5,
   "id": "7770402c",
   "metadata": {},
   "outputs": [],
   "source": [
    "import tools\n",
    "import pandas as pd \n",
    "import numpy as np \n",
    "import matplotlib.pyplot as plt\n",
    "import os"
   ]
  },
  {
   "cell_type": "code",
   "execution_count": 6,
   "id": "5458be86",
   "metadata": {},
   "outputs": [],
   "source": [
    "def get_xy_soccer(player_num, sport, gps_type='ELITE'):\n",
    "    dfraw = tools.load_gps_data(gps_type=gps_type, player_num=player_num)\n",
    "    df = tools.data_gps_clean(dfraw, gps_type=gps_type, player_num=player_num)\n",
    "    play_time = tools.play_time(sport)\n",
    "    start = play_time[0]\n",
    "    end = play_time[1]\n",
    "    df = tools.cut_df_time(df, start, end)\n",
    "    if sport == 'soccer': \n",
    "        x, y, lat0, lon0 = tools.gps2cart(df['latitude'].values, df['longitude'].values, tools.calib_lat_lon_soccer())\n",
    "    elif sport == 'basketball': \n",
    "        x, y, lat0, lon0 = tools.gps2cart(df['latitude'].values, df['longitude'].values, tools.calib_lat_lon_basketball())\n",
    "    elif sport == 'volleyball': \n",
    "        x, y, lat0, lon0 = tools.gps2cart(df['latitude'].values, df['longitude'].values, tools.calib_lat_lon_volleyball())\n",
    "    return x, y"
   ]
  },
  {
   "cell_type": "code",
   "execution_count": 14,
   "id": "307430d5",
   "metadata": {},
   "outputs": [],
   "source": [
    "def create_data(sport, color):\n",
    "    print(' ')\n",
    "    print(f'Creating XY data: {sport} - {color}')\n",
    "    df = pd.DataFrame()\n",
    "    for player in tools.get_team_list(sport,color): \n",
    "        x, y = get_xy_soccer(player, sport)\n",
    "        df_trial = pd.DataFrame({f'{player}_x': x, \n",
    "                                 f'{player}_y': y})\n",
    "        df = pd.concat([df, df_trial], axis=1)\n",
    "        # df[f'{player}_x'] = x\n",
    "        # df[f'{player}_y'] = y\n",
    "    folder = f'./data/{sport}/' \n",
    "    print(f'File saved in : {folder}')\n",
    "    os.makedirs(folder,exist_ok=True)\n",
    "    df.to_csv(f'{folder}/{color}_xy.csv',index=False)"
   ]
  },
  {
   "cell_type": "code",
   "execution_count": 15,
   "id": "384d910c",
   "metadata": {},
   "outputs": [
    {
     "name": "stdout",
     "output_type": "stream",
     "text": [
      " \n",
      "Creating XY data: soccer - blue\n",
      "    -Loading | GPS ELITE - Player: 9\n",
      "    -Data Clening | GPS ELITE - Player: 9\n",
      "    -Loading | GPS ELITE - Player: 10\n",
      "    -Data Clening | GPS ELITE - Player: 10\n",
      "    -Loading | GPS ELITE - Player: 11\n",
      "    -Data Clening | GPS ELITE - Player: 11\n",
      "File saved in : ./data/soccer/\n",
      " \n",
      "Creating XY data: soccer - orange\n",
      "    -Loading | GPS ELITE - Player: 6\n",
      "    -Data Clening | GPS ELITE - Player: 6\n",
      "    -Loading | GPS ELITE - Player: 5\n",
      "    -Data Clening | GPS ELITE - Player: 5\n",
      "    -Loading | GPS ELITE - Player: 13\n",
      "    -Data Clening | GPS ELITE - Player: 13\n",
      "File saved in : ./data/soccer/\n",
      " \n",
      "Creating XY data: basketball - blue\n",
      "    -Loading | GPS ELITE - Player: 6\n",
      "    -Data Clening | GPS ELITE - Player: 6\n",
      "    -Loading | GPS ELITE - Player: 9\n",
      "    -Data Clening | GPS ELITE - Player: 9\n",
      "    -Loading | GPS ELITE - Player: 12\n",
      "    -Data Clening | GPS ELITE - Player: 12\n",
      "    -Loading | GPS ELITE - Player: 8\n",
      "    -Data Clening | GPS ELITE - Player: 8\n",
      "File saved in : ./data/basketball/\n",
      " \n",
      "Creating XY data: basketball - orange\n",
      "    -Loading | GPS ELITE - Player: 7\n",
      "    -Data Clening | GPS ELITE - Player: 7\n",
      "    -Loading | GPS ELITE - Player: 10\n",
      "    -Data Clening | GPS ELITE - Player: 10\n",
      "    -Loading | GPS ELITE - Player: 5\n",
      "    -Data Clening | GPS ELITE - Player: 5\n",
      "    -Loading | GPS ELITE - Player: 4\n",
      "    -Data Clening | GPS ELITE - Player: 4\n",
      "File saved in : ./data/basketball/\n",
      " \n",
      "Creating XY data: volleyball - blue\n",
      "    -Loading | GPS ELITE - Player: 5\n",
      "    -Data Clening | GPS ELITE - Player: 5\n",
      "    -Loading | GPS ELITE - Player: 10\n",
      "    -Data Clening | GPS ELITE - Player: 10\n",
      "    -Loading | GPS ELITE - Player: 3\n",
      "    -Data Clening | GPS ELITE - Player: 3\n",
      "    -Loading | GPS ELITE - Player: 4\n",
      "    -Data Clening | GPS ELITE - Player: 4\n",
      "File saved in : ./data/volleyball/\n",
      " \n",
      "Creating XY data: volleyball - orange\n",
      "    -Loading | GPS ELITE - Player: 12\n",
      "    -Data Clening | GPS ELITE - Player: 12\n",
      "    -Loading | GPS ELITE - Player: 9\n",
      "    -Data Clening | GPS ELITE - Player: 9\n",
      "    -Loading | GPS ELITE - Player: 6\n",
      "    -Data Clening | GPS ELITE - Player: 6\n",
      "    -Loading | GPS ELITE - Player: 8\n",
      "    -Data Clening | GPS ELITE - Player: 8\n",
      "File saved in : ./data/volleyball/\n"
     ]
    }
   ],
   "source": [
    "create_data('soccer', 'blue')\n",
    "create_data('soccer', 'orange')\n",
    "\n",
    "create_data('basketball', 'blue')\n",
    "create_data('basketball', 'orange')\n",
    "\n",
    "create_data('volleyball', 'blue')\n",
    "create_data('volleyball', 'orange')"
   ]
  }
 ],
 "metadata": {
  "kernelspec": {
   "display_name": "brunobedo",
   "language": "python",
   "name": "python3"
  },
  "language_info": {
   "codemirror_mode": {
    "name": "ipython",
    "version": 3
   },
   "file_extension": ".py",
   "mimetype": "text/x-python",
   "name": "python",
   "nbconvert_exporter": "python",
   "pygments_lexer": "ipython3",
   "version": "3.9.21"
  }
 },
 "nbformat": 4,
 "nbformat_minor": 5
}
